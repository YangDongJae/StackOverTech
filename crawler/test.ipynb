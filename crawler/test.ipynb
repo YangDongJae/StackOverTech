{
 "cells": [
  {
   "cell_type": "code",
   "execution_count": 1,
   "metadata": {},
   "outputs": [
    {
     "name": "stdout",
     "output_type": "stream",
     "text": [
      "정보를 수집하고있습니다...\n",
      "https://www.glassdoor.com/Job/united-states-data-scientist-jobs-SRCH_IL.0,13_IN1_KO14,28.htm?sortBy=date_desc1.htm\n",
      "https://www.glassdoor.com/Job/united-states-data-scientist-jobs-SRCH_IL.0,13_IN1_KO14,28.htm?sortBy=date_desc2.htm\n",
      "https://www.glassdoor.com/Job/united-states-data-scientist-jobs-SRCH_IL.0,13_IN1_KO14,28.htm?sortBy=date_desc3.htm\n"
     ]
    }
   ],
   "source": [
    "from email.quoprimime import header_check\n",
    "from bs4 import BeautifulSoup\n",
    "import requests\n",
    "import time\n",
    "import pandas as pd\n",
    "from datetime import datetime, timedelta\n",
    "import numpy as np\n",
    "import progressbar\n",
    "\n",
    "\n",
    "# def get_position_link(url):\n",
    "  \n",
    "#   links = []\n",
    "#   response = requests.get(url)\n",
    "#   soup = BeautifulSoup(response.text)\n",
    "\n",
    "#   a = soup.find_all('a', class_ = 'jobLink')\n",
    "\n",
    "#   for i in a:\n",
    "#     links.append('https://www.glassdoor.com' + i.get('href'))\n",
    "\n",
    "#   return links\n",
    "\n",
    "# get_position_link('https://www.glassdoor.com/Job/united-states-data-scientist-jobs-SRCH_IL.0,13_IN1_KO14,28.htm?sortBy=date_desc')\n",
    "\n",
    "\n",
    "def get_position_link(url):\n",
    "\n",
    "  links = []\n",
    "  response = requests.get(url)\n",
    "  soup = BeautifulSoup(response.text, 'html.parser')\n",
    "  a = soup.find_all('a', class_ = 'jobLink')\n",
    "\n",
    "  for i in a:\n",
    "    links.append('https://www.glassdoor.com' + i.get('href'))\n",
    "\n",
    "  links = links[::3]\n",
    "\n",
    "  return links\n",
    "\n",
    "def get_all_links(num_page, url):\n",
    "  link = []\n",
    "  i = 1\n",
    "  print('정보를 수집하고있습니다...')\n",
    "\n",
    "  while i <= num_page:\n",
    "    try:\n",
    "      url_main = url + str(i) + '.htm'\n",
    "      link.append(get_position_link(url_main))\n",
    "      print(url_main)\n",
    "      i += 1\n",
    "      time.sleep(0.5)\n",
    "    except:\n",
    "      print('정보 수집을 종료합니다.')\n",
    "      break\n",
    "\n",
    "  return link\n",
    "\n",
    "##\n",
    "url = 'https://www.glassdoor.com/Job/united-states-data-scientist-jobs-SRCH_IL.0,13_IN1_KO14,28_IP{}.htm?sortBy=date_desc'.format()\n",
    "\n",
    "test = get_all_links(3, url)"
   ]
  },
  {
   "cell_type": "code",
   "execution_count": 11,
   "metadata": {},
   "outputs": [],
   "source": [
    "import pandas as pd\n",
    "import numpy as np\n",
    "\n",
    "a = pd.DataFrame(test[0])\n",
    "\n"
   ]
  },
  {
   "cell_type": "code",
   "execution_count": 15,
   "metadata": {},
   "outputs": [
    {
     "data": {
      "text/plain": [
       "'https://www.glassdoor.com/partner/jobListing.htm?pos=103&ao=1136043&s=58&guid=000001818c2ee0878b1e5becadddc9ef&src=GD_JOB_AD&t=SR&vt=w&cs=1_c184e544&cb=1655914291996&jobListingId=1007751176915&jrtk=3-0-1g662toakjflp801-1g662tob5haqm800-35525da858c9e361-'"
      ]
     },
     "execution_count": 15,
     "metadata": {},
     "output_type": "execute_result"
    }
   ],
   "source": [
    "https://www.glassdoor.com/Job/united-states-data-scientist-jobs-SRCH_IL.0,13_IN1_KO14,28.htm?sortBy=date_desc\n",
    "https://www.glassdoor.com/Job/united-states-data-scientist-jobs-SRCH_IL.0,13_IN1_KO14,28_IP2.htm?includeNoSalaryJobs=true&sortBy=date_desc&pgc=AB4AAYEAHgAAAAAAAAAAAAAAAdpDuJMASQEBDQhxf2FSGiwMYV8nHammvne3Kz4jS4lBfIN3LYef7OVxMG91Z1uKNQqXDWcoAxzRplGDrz2q7lTE5sAfC37DeNlEap2ZjHgAAA%3D%3D\n",
    "https://www.glassdoor.com/Job/united-states-data-scientist-jobs-SRCH_IL.0,13_IN1_KO14,28_IP3.htm?includeNoSalaryJobs=true&sortBy=date_desc&pgc=AB4AAoEAPAAAAAAAAAAAAAAAAdpDuJMAdQEBAQ8G76oWIial5d2IcCjRuRO1CsXXIKJHXK2yXeXzXtq7sUvjHmMAgJ031MbEhbW0Izs8XWcKmCbFVsWTbtp2qPij5BoOyEGjgwNyELiPKQdG8iRYEJgV%2B3oF%2Bn615dQmu85c7wu3drhZer%2FLjUKqrhvUywAA"
   ]
  },
  {
   "cell_type": "code",
   "execution_count": null,
   "metadata": {},
   "outputs": [],
   "source": []
  }
 ],
 "metadata": {
  "interpreter": {
   "hash": "95d1e123bc4c178ead1f11f67e4bb87f6d005042260e927de93f10f45de44c0a"
  },
  "kernelspec": {
   "display_name": "Python 3.7.6 ('base')",
   "language": "python",
   "name": "python3"
  },
  "language_info": {
   "codemirror_mode": {
    "name": "ipython",
    "version": 3
   },
   "file_extension": ".py",
   "mimetype": "text/x-python",
   "name": "python",
   "nbconvert_exporter": "python",
   "pygments_lexer": "ipython3",
   "version": "3.7.6"
  },
  "orig_nbformat": 4
 },
 "nbformat": 4,
 "nbformat_minor": 2
}
